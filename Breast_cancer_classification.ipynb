{
 "cells": [
  {
   "cell_type": "markdown",
   "metadata": {},
   "source": [
    "## This script illustrates Decision Trees, K-NN and logistic Regression, SVM Models for Breast Cancer Dataset"
   ]
  },
  {
   "cell_type": "markdown",
   "metadata": {},
   "source": [
    "Loading all the necessary libraries required for data anaylsis,modelling and visualization "
   ]
  },
  {
   "cell_type": "code",
   "execution_count": 1,
   "metadata": {},
   "outputs": [],
   "source": [
    "%matplotlib inline\n",
    "# import necessary libraries and specify that graphs should be plotted inline. \n",
    "from sklearn.datasets import load_breast_cancer\n",
    "from sklearn import tree,linear_model,neighbors, datasets\n",
    "from sklearn.model_selection import cross_val_score, train_test_split, GridSearchCV, KFold\n",
    "from sklearn.metrics import accuracy_score,confusion_matrix,classification_report, roc_curve, auc\n",
    "from sklearn.utils.multiclass import unique_labels\n",
    "from sklearn.exceptions import ConvergenceWarning\n",
    "from sklearn.svm import SVC\n",
    "from sklearn.preprocessing import label_binarize, StandardScaler\n",
    "import scikitplot as skplt\n",
    "import matplotlib.pyplot as plt\n",
    "import numpy as np\n",
    "import pandas as pd"
   ]
  },
  {
   "cell_type": "markdown",
   "metadata": {},
   "source": [
    "Loading the dataset and have a general look at the data "
   ]
  },
  {
   "cell_type": "code",
   "execution_count": 2,
   "metadata": {
    "scrolled": false
   },
   "outputs": [
    {
     "name": "stdout",
     "output_type": "stream",
     "text": [
      ".. _breast_cancer_dataset:\n",
      "\n",
      "Breast cancer wisconsin (diagnostic) dataset\n",
      "--------------------------------------------\n",
      "\n",
      "**Data Set Characteristics:**\n",
      "\n",
      "    :Number of Instances: 569\n",
      "\n",
      "    :Number of Attributes: 30 numeric, predictive attributes and the class\n",
      "\n",
      "    :Attribute Information:\n",
      "        - radius (mean of distances from center to points on the perimeter)\n",
      "        - texture (standard deviation of gray-scale values)\n",
      "        - perimeter\n",
      "        - area\n",
      "        - smoothness (local variation in radius lengths)\n",
      "        - compactness (perimeter^2 / area - 1.0)\n",
      "        - concavity (severity of concave portions of the contour)\n",
      "        - concave points (number of concave portions of the contour)\n",
      "        - symmetry \n",
      "        - fractal dimension (\"coastline approximation\" - 1)\n",
      "\n",
      "        The mean, standard error, and \"worst\" or largest (mean of the three\n",
      "        largest values) of these features were computed for each image,\n",
      "        resulting in 30 features.  For instance, field 3 is Mean Radius, field\n",
      "        13 is Radius SE, field 23 is Worst Radius.\n",
      "\n",
      "        - class:\n",
      "                - WDBC-Malignant\n",
      "                - WDBC-Benign\n",
      "\n",
      "    :Summary Statistics:\n",
      "\n",
      "    ===================================== ====== ======\n",
      "                                           Min    Max\n",
      "    ===================================== ====== ======\n",
      "    radius (mean):                        6.981  28.11\n",
      "    texture (mean):                       9.71   39.28\n",
      "    perimeter (mean):                     43.79  188.5\n",
      "    area (mean):                          143.5  2501.0\n",
      "    smoothness (mean):                    0.053  0.163\n",
      "    compactness (mean):                   0.019  0.345\n",
      "    concavity (mean):                     0.0    0.427\n",
      "    concave points (mean):                0.0    0.201\n",
      "    symmetry (mean):                      0.106  0.304\n",
      "    fractal dimension (mean):             0.05   0.097\n",
      "    radius (standard error):              0.112  2.873\n",
      "    texture (standard error):             0.36   4.885\n",
      "    perimeter (standard error):           0.757  21.98\n",
      "    area (standard error):                6.802  542.2\n",
      "    smoothness (standard error):          0.002  0.031\n",
      "    compactness (standard error):         0.002  0.135\n",
      "    concavity (standard error):           0.0    0.396\n",
      "    concave points (standard error):      0.0    0.053\n",
      "    symmetry (standard error):            0.008  0.079\n",
      "    fractal dimension (standard error):   0.001  0.03\n",
      "    radius (worst):                       7.93   36.04\n",
      "    texture (worst):                      12.02  49.54\n",
      "    perimeter (worst):                    50.41  251.2\n",
      "    area (worst):                         185.2  4254.0\n",
      "    smoothness (worst):                   0.071  0.223\n",
      "    compactness (worst):                  0.027  1.058\n",
      "    concavity (worst):                    0.0    1.252\n",
      "    concave points (worst):               0.0    0.291\n",
      "    symmetry (worst):                     0.156  0.664\n",
      "    fractal dimension (worst):            0.055  0.208\n",
      "    ===================================== ====== ======\n",
      "\n",
      "    :Missing Attribute Values: None\n",
      "\n",
      "    :Class Distribution: 212 - Malignant, 357 - Benign\n",
      "\n",
      "    :Creator:  Dr. William H. Wolberg, W. Nick Street, Olvi L. Mangasarian\n",
      "\n",
      "    :Donor: Nick Street\n",
      "\n",
      "    :Date: November, 1995\n",
      "\n",
      "This is a copy of UCI ML Breast Cancer Wisconsin (Diagnostic) datasets.\n",
      "https://goo.gl/U2Uwz2\n",
      "\n",
      "Features are computed from a digitized image of a fine needle\n",
      "aspirate (FNA) of a breast mass.  They describe\n",
      "characteristics of the cell nuclei present in the image.\n",
      "\n",
      "Separating plane described above was obtained using\n",
      "Multisurface Method-Tree (MSM-T) [K. P. Bennett, \"Decision Tree\n",
      "Construction Via Linear Programming.\" Proceedings of the 4th\n",
      "Midwest Artificial Intelligence and Cognitive Science Society,\n",
      "pp. 97-101, 1992], a classification method which uses linear\n",
      "programming to construct a decision tree.  Relevant features\n",
      "were selected using an exhaustive search in the space of 1-4\n",
      "features and 1-3 separating planes.\n",
      "\n",
      "The actual linear program used to obtain the separating plane\n",
      "in the 3-dimensional space is that described in:\n",
      "[K. P. Bennett and O. L. Mangasarian: \"Robust Linear\n",
      "Programming Discrimination of Two Linearly Inseparable Sets\",\n",
      "Optimization Methods and Software 1, 1992, 23-34].\n",
      "\n",
      "This database is also available through the UW CS ftp server:\n",
      "\n",
      "ftp ftp.cs.wisc.edu\n",
      "cd math-prog/cpo-dataset/machine-learn/WDBC/\n",
      "\n",
      ".. topic:: References\n",
      "\n",
      "   - W.N. Street, W.H. Wolberg and O.L. Mangasarian. Nuclear feature extraction \n",
      "     for breast tumor diagnosis. IS&T/SPIE 1993 International Symposium on \n",
      "     Electronic Imaging: Science and Technology, volume 1905, pages 861-870,\n",
      "     San Jose, CA, 1993.\n",
      "   - O.L. Mangasarian, W.N. Street and W.H. Wolberg. Breast cancer diagnosis and \n",
      "     prognosis via linear programming. Operations Research, 43(4), pages 570-577, \n",
      "     July-August 1995.\n",
      "   - W.H. Wolberg, W.N. Street, and O.L. Mangasarian. Machine learning techniques\n",
      "     to diagnose breast cancer from fine-needle aspirates. Cancer Letters 77 (1994) \n",
      "     163-171.\n"
     ]
    }
   ],
   "source": [
    "# load the data set\n",
    "# load_breast_cancer() loads and returns the required dataset (classification).\n",
    "data = load_breast_cancer()\n",
    "# load_breast_cancer() returns a dictionary-like object. The interesting attributes are: \n",
    "# ‘data’, the data to learn, \n",
    "# ‘target’, the classification labels, \n",
    "# ‘target_names’, the meaning of the labels, \n",
    "# ‘feature_names’, the meaning of the features, and \n",
    "# ‘DESCR’, the full description of the dataset.\n",
    "print (data.DESCR)"
   ]
  },
  {
   "cell_type": "markdown",
   "metadata": {},
   "source": [
    "Exploring the dataset in terms of the dimensions, target variable as well as the attributes which will be used to classify the target variable."
   ]
  },
  {
   "cell_type": "code",
   "execution_count": 3,
   "metadata": {},
   "outputs": [
    {
     "name": "stdout",
     "output_type": "stream",
     "text": [
      "The dimensions of the data set are 569 by 30\n",
      "The classes are: ['malignant' 'benign']\n",
      "The features in the data set are: ['mean radius' 'mean texture' 'mean perimeter' 'mean area'\n",
      " 'mean smoothness' 'mean compactness' 'mean concavity'\n",
      " 'mean concave points' 'mean symmetry' 'mean fractal dimension'\n",
      " 'radius error' 'texture error' 'perimeter error' 'area error'\n",
      " 'smoothness error' 'compactness error' 'concavity error'\n",
      " 'concave points error' 'symmetry error' 'fractal dimension error'\n",
      " 'worst radius' 'worst texture' 'worst perimeter' 'worst area'\n",
      " 'worst smoothness' 'worst compactness' 'worst concavity'\n",
      " 'worst concave points' 'worst symmetry' 'worst fractal dimension']\n"
     ]
    }
   ],
   "source": [
    "n_samples, n_features = data.data.shape\n",
    "print ('The dimensions of the data set are', n_samples, 'by', n_features)\n",
    "print ('The classes are:', data.target_names)\n",
    "print ('The features in the data set are:', data.feature_names)"
   ]
  },
  {
   "cell_type": "markdown",
   "metadata": {},
   "source": [
    "The data is in the required format so data cleaning or transformation steos is not required "
   ]
  },
  {
   "cell_type": "markdown",
   "metadata": {},
   "source": [
    "Splitting holdout data to be 20% which will be later used to evaluate model performance after training the model using cross validation.\n",
    "Using random sampling because the data set in not imbalanced. the target variable are split in the ratio 0 : 38% and 1: 63%"
   ]
  },
  {
   "cell_type": "code",
   "execution_count": 4,
   "metadata": {},
   "outputs": [],
   "source": [
    "X_train, X_test, y_train, y_test = train_test_split(data.data, data.target, test_size=0.20,random_state=42,stratify = data.target)"
   ]
  },
  {
   "cell_type": "code",
   "execution_count": 5,
   "metadata": {},
   "outputs": [],
   "source": [
    "scaler = StandardScaler().fit(X_train)\n",
    "scaler1 = StandardScaler().fit(X_test)\n",
    "X_train = scaler.transform(X_train)  \n",
    "X_test = scaler1.transform(X_test)  \n",
    "X_train = pd.DataFrame(X_train)\n",
    "X_test = pd.DataFrame(X_test)"
   ]
  },
  {
   "cell_type": "code",
   "execution_count": 6,
   "metadata": {},
   "outputs": [
    {
     "data": {
      "text/plain": [
       "{0: 212, 1: 357}"
      ]
     },
     "execution_count": 6,
     "metadata": {},
     "output_type": "execute_result"
    }
   ],
   "source": [
    "type(data.target)\n",
    "unique, counts = np.unique(data.target, return_counts=True)\n",
    "dict(zip(unique, counts))"
   ]
  },
  {
   "cell_type": "code",
   "execution_count": 7,
   "metadata": {},
   "outputs": [
    {
     "data": {
      "text/plain": [
       "{0: 170, 1: 285}"
      ]
     },
     "execution_count": 7,
     "metadata": {},
     "output_type": "execute_result"
    }
   ],
   "source": [
    "# Verifying if the ratio is still maintained after random splitting in train and test\n",
    "unique, counts = np.unique(y_train, return_counts=True)\n",
    "dict(zip(unique, counts))"
   ]
  },
  {
   "cell_type": "code",
   "execution_count": 8,
   "metadata": {},
   "outputs": [
    {
     "data": {
      "text/plain": [
       "{0: 42, 1: 72}"
      ]
     },
     "execution_count": 8,
     "metadata": {},
     "output_type": "execute_result"
    }
   ],
   "source": [
    "unique, counts = np.unique(y_test, return_counts=True)\n",
    "dict(zip(unique, counts))\n",
    "# It is verified that the ratio is maintained "
   ]
  },
  {
   "cell_type": "code",
   "execution_count": 9,
   "metadata": {},
   "outputs": [],
   "source": [
    "import warnings\n",
    "warnings.filterwarnings(\"ignore\", category=DeprecationWarning)\n",
    "warnings.filterwarnings(\"ignore\", category=FutureWarning)\n",
    "warnings.filterwarnings(\"ignore\", category=ConvergenceWarning)"
   ]
  },
  {
   "cell_type": "markdown",
   "metadata": {},
   "source": [
    "### 1. Decision Trees"
   ]
  },
  {
   "cell_type": "markdown",
   "metadata": {},
   "source": [
    "Algorithms like decision tree has many hyperparameters which we can tweak.Grid Search method from sklearn can be used so that we can test a lot of hyperparamters and do cross validation of each to get the best set of hyper parameters.\n",
    "Below is the code for decision tree hyperparameter optimization using grid search"
   ]
  },
  {
   "cell_type": "markdown",
   "metadata": {},
   "source": [
    "Max_depth, min_samples in leaf and min_impurity_decrease hyper parameters is used for the model because max depth and min samples in leaf nodes should put a constraint on the tree growing full to the each individual node which would lead to overfitting and min_impurity_decrease is used to deal with underfitting because if a node is impurity with this threshold the try will try to split it and try to make the leaf nodes pure than the parent."
   ]
  },
  {
   "cell_type": "code",
   "execution_count": 10,
   "metadata": {},
   "outputs": [],
   "source": [
    "tuned_parameters = {'max_depth': np.arange(3,7),'min_samples_leaf': np.arange(5,30),\"criterion\":[\"gini\",\"entropy\"],\"min_impurity_decrease\":[1e-07,1e-06,1e-05,1e-04,1e-03,1e-02,1e-01,1]}\n",
    "\n",
    "inner_cv = KFold(n_splits=4, shuffle=True)\n",
    "outer_cv = KFold(n_splits=4, shuffle=True)\n",
    "\n",
    "grid_tree = tree.DecisionTreeClassifier(random_state=45)\n",
    "\n",
    "#Nested CV inner loop\n",
    "grid = GridSearchCV(grid_tree, tuned_parameters, cv = inner_cv, scoring='f1')\n",
    "grid.fit(X_train,y_train)\n",
    "\n",
    "#Nested CV outer loop\n",
    "nested_score = cross_val_score(grid, data.data, data.target, cv=outer_cv,scoring ='f1')\n"
   ]
  },
  {
   "cell_type": "code",
   "execution_count": 11,
   "metadata": {},
   "outputs": [
    {
     "name": "stdout",
     "output_type": "stream",
     "text": [
      "Using Nested CV with grid search,accuracy: 95.05% +/- 5.40%\n",
      "\n",
      "The best hyper-parameters to get this accuracy is :-\n",
      " {'criterion': 'gini', 'max_depth': 6, 'min_impurity_decrease': 1e-07, 'min_samples_leaf': 6}\n",
      "\n",
      "The best decision tree classifier is :-\n",
      " DecisionTreeClassifier(class_weight=None, criterion='gini', max_depth=6,\n",
      "            max_features=None, max_leaf_nodes=None,\n",
      "            min_impurity_decrease=1e-07, min_impurity_split=None,\n",
      "            min_samples_leaf=6, min_samples_split=2,\n",
      "            min_weight_fraction_leaf=0.0, presort=False, random_state=45,\n",
      "            splitter='best')\n",
      "Confusion Matrix: - \n",
      " [[39  3]\n",
      " [10 62]]\n",
      "\n",
      "Classification Report: - \n",
      "               precision    recall  f1-score   support\n",
      "\n",
      "           0       0.80      0.93      0.86        42\n",
      "           1       0.95      0.86      0.91        72\n",
      "\n",
      "   micro avg       0.89      0.89      0.89       114\n",
      "   macro avg       0.87      0.89      0.88       114\n",
      "weighted avg       0.90      0.89      0.89       114\n",
      "\n"
     ]
    }
   ],
   "source": [
    "# Mean Accuracy with +/- 2 std deviations\n",
    "print(\"Using Nested CV with grid search,accuracy: {0:.2%} +/- {1:.2%}\".format(nested_score.mean(), nested_score.std() * 2))\n",
    "print()\n",
    "print (\"The best hyper-parameters to get this accuracy is :-\\n\", grid.best_params_)\n",
    "print()\n",
    "print (\"The best decision tree classifier is :-\\n\", grid.best_estimator_)\n",
    "y_pred = grid.best_estimator_.predict(X_test)\n",
    "\n",
    "#Goodness Measures confusion matrix and other measures like accuracy, precision,recall\n",
    "print(\"Confusion Matrix: - \\n\",confusion_matrix(y_test, y_pred))\n",
    "print()\n",
    "print(\"Classification Report: - \\n\",classification_report(y_test, y_pred))"
   ]
  },
  {
   "cell_type": "markdown",
   "metadata": {},
   "source": [
    "**Model Goodness**\n",
    "\n",
    "The class distribution is 357 benign, 212 malignant, which would get us an accuracy of 357/(357+212) = 62.74% by majority rule, so an **Accuracy of 95.05% +/- 5.40%** by decision tree classification is a good model.\n",
    "\n",
    "Our model was chosen based of **f1-score which is 89%** which is the harmonic mean of precision and recall and hence a good measure to determine a good fit.\n",
    "\n",
    "False Negatives can be a problem since it is a medical case and we would like to minimize the number of **false negatives which is 10** in this case.\n",
    "\n",
    "Therefore, the following Hyperparameters,  'criterion': 'entropy', 'max_depth': 4, 'min_impurity_decrease': 1e-07, 'min_samples_leaf': 6 help us increase the accuracy to 95.05% +/- 5.40%, while maintaining the same f1 score of 89%."
   ]
  },
  {
   "cell_type": "markdown",
   "metadata": {},
   "source": [
    "The Predict function from the model takes .5 as threshold, plotting a ROC curve to see if this threshold can be changed to get better results "
   ]
  },
  {
   "cell_type": "markdown",
   "metadata": {},
   "source": [
    "ROC Curve :\n",
    "ROC curve plots the true positive rate and false positive rate for various thresholds. X axis is false positve(1- Sensitivity) rate and Y axis is true positive rate(Specificity). It can be noticed that, when the threshold is high we get all the true postives if the classifier has predicted all the positives correctly and values across Y axis increases and when the threshold is lowered the model starts getting false postives so value across x axis increases and finally reached 1,1 co ordinate. "
   ]
  },
  {
   "cell_type": "code",
   "execution_count": 12,
   "metadata": {},
   "outputs": [
    {
     "data": {
      "image/png": "[encoded data removed]",
      "text/plain": [
       "<Figure size 432x288 with 1 Axes>"
      ]
     },
     "metadata": {
      "needs_background": "light"
     },
     "output_type": "display_data"
    }
   ],
   "source": [
    "y_score = grid.best_estimator_.predict_proba(X_test)\n",
    "\n",
    "fpr, tpr, _ = roc_curve(y_test, y_score[:,1])\n",
    "roc_auc = auc(fpr, tpr)\n",
    "\n",
    "plt.figure()\n",
    "plt.plot(fpr, tpr, color='darkorange',\n",
    "         lw=2, label='ROC curve (area = %0.2f)' % roc_auc)\n",
    "plt.plot([0, 1], [0, 1], color='navy', linestyle='--')\n",
    "plt.xlim([0.0, 1.0])\n",
    "plt.ylim([0.0, 1.05])\n",
    "plt.xlabel('False Positive Rate')\n",
    "plt.ylabel('True Positive Rate')\n",
    "plt.title('Receiver Operating Characteristic for decision tree')\n",
    "plt.legend(loc=\"lower right\")\n",
    "plt.show()"
   ]
  },
  {
   "cell_type": "markdown",
   "metadata": {},
   "source": [
    "The lift curve graphically represents the improvement that a mining model provides when comapred against a random guess for a portion of observations. The lift is > 2.5 for class 1 for the first 40% of the observations later decreases."
   ]
  },
  {
   "cell_type": "code",
   "execution_count": 13,
   "metadata": {},
   "outputs": [
    {
     "name": "stderr",
     "output_type": "stream",
     "text": [
      "C:\\Users\\vnike\\Anaconda3\\lib\\site-packages\\matplotlib\\cbook\\__init__.py:424: MatplotlibDeprecationWarning: \n",
      "Passing one of 'on', 'true', 'off', 'false' as a boolean is deprecated; use an actual boolean (True/False) instead.\n",
      "  warn_deprecated(\"2.2\", \"Passing one of 'on', 'true', 'off', 'false' as a \"\n"
     ]
    },
    {
     "data": {
      "image/png": "[encoded data removed]",
      "text/plain": [
       "<Figure size 432x288 with 1 Axes>"
      ]
     },
     "metadata": {
      "needs_background": "light"
     },
     "output_type": "display_data"
    }
   ],
   "source": [
    "# Plot the lift curve\n",
    "skplt.metrics.plot_lift_curve(y_test, y_score)\n",
    "plt.show()"
   ]
  },
  {
   "cell_type": "markdown",
   "metadata": {},
   "source": [
    "The ROC and lift chart shows that the accuracy reaches maximum when the treshold is set to 0.9 above that the False Positives increases.Setting 0.9 as threshold and classifying the test data "
   ]
  },
  {
   "cell_type": "code",
   "execution_count": 16,
   "metadata": {},
   "outputs": [
    {
     "name": "stdout",
     "output_type": "stream",
     "text": [
      "Confusion Matrix: - \n",
      " [[37  5]\n",
      " [ 2 70]]\n",
      "\n",
      "Classification Report: - \n",
      "               precision    recall  f1-score   support\n",
      "\n",
      "           0       0.95      0.88      0.91        42\n",
      "           1       0.93      0.97      0.95        72\n",
      "\n",
      "   micro avg       0.94      0.94      0.94       114\n",
      "   macro avg       0.94      0.93      0.93       114\n",
      "weighted avg       0.94      0.94      0.94       114\n",
      "\n"
     ]
    }
   ],
   "source": [
    "y_pred = np.where(y_score[:,1] > .4,1,0)\n",
    "#Goodness Measures confusion matrix and other measures like accuracy, precision,recall\n",
    "print(\"Confusion Matrix: - \\n\",confusion_matrix(y_test, y_pred))\n",
    "print()\n",
    "print(\"Classification Report: - \\n\",classification_report(y_test, y_pred))"
   ]
  },
  {
   "cell_type": "markdown",
   "metadata": {},
   "source": [
    "Increasing threshold increases the true positives but also increases the false negatives which is not desired.Hence, we can keep the threshold at .4 where false negatives is less"
   ]
  },
  {
   "cell_type": "markdown",
   "metadata": {},
   "source": [
    "### 2. K-NN  "
   ]
  },
  {
   "cell_type": "markdown",
   "metadata": {},
   "source": [
    "Nested Grid Search for model selection as well as hyper parameter tuning"
   ]
  },
  {
   "cell_type": "code",
   "execution_count": 17,
   "metadata": {},
   "outputs": [],
   "source": [
    "param_grid = {'n_neighbors' : np.arange(1,30), 'weights' : ['uniform','distance']}\n",
    "\n",
    "grid_knn_clf = neighbors.KNeighborsClassifier()\n",
    "\n",
    "inner_cv = KFold(n_splits=4, shuffle=True, random_state=45)\n",
    "outer_cv = KFold(n_splits=4, shuffle=True, random_state=45)\n",
    "\n",
    "#Nested CV innner loop\n",
    "grid_knn = GridSearchCV(grid_knn_clf, param_grid, cv = inner_cv, scoring='f1')\n",
    "grid_knn.fit(X_train,y_train)\n",
    "\n",
    "#Nested CV outer loop\n",
    "nested_score = cross_val_score(grid_knn, data.data, data.target, cv=outer_cv,scoring='f1')"
   ]
  },
  {
   "cell_type": "code",
   "execution_count": 18,
   "metadata": {},
   "outputs": [
    {
     "name": "stdout",
     "output_type": "stream",
     "text": [
      "Using Nested CV with grid search,accuracy: 94.35% +/- 1.56%\n",
      "\n",
      "The best hyper-parameters to get this accuracy is :-\n",
      " {'n_neighbors': 6, 'weights': 'distance'}\n",
      "\n",
      "The best decision tree classifier is :-\n",
      " KNeighborsClassifier(algorithm='auto', leaf_size=30, metric='minkowski',\n",
      "           metric_params=None, n_jobs=None, n_neighbors=6, p=2,\n",
      "           weights='distance')\n",
      "Confusion Matrix: - \n",
      " [[39  3]\n",
      " [ 0 72]]\n",
      "\n",
      "Classification Report: - \n",
      "               precision    recall  f1-score   support\n",
      "\n",
      "           0       1.00      0.93      0.96        42\n",
      "           1       0.96      1.00      0.98        72\n",
      "\n",
      "   micro avg       0.97      0.97      0.97       114\n",
      "   macro avg       0.98      0.96      0.97       114\n",
      "weighted avg       0.97      0.97      0.97       114\n",
      "\n"
     ]
    }
   ],
   "source": [
    "# Mean Accuracy with +/- 2 std deviations\n",
    "print(\"Using Nested CV with grid search,accuracy: {0:.2%} +/- {1:.2%}\".format(nested_score.mean(), nested_score.std() * 2))\n",
    "print()\n",
    "print (\"The best hyper-parameters to get this accuracy is :-\\n\", grid_knn.best_params_)\n",
    "print()\n",
    "print (\"The best decision tree classifier is :-\\n\", grid_knn.best_estimator_)\n",
    "y_pred = grid_knn.best_estimator_.predict(X_test)\n",
    "\n",
    "#Goodness Measures confusion matrix and other measures like accuracy, precision,recall\n",
    "print(\"Confusion Matrix: - \\n\",confusion_matrix(y_test, y_pred))\n",
    "print()\n",
    "print(\"Classification Report: - \\n\",classification_report(y_test, y_pred))"
   ]
  },
  {
   "cell_type": "markdown",
   "metadata": {},
   "source": [
    "**Model Goodness**\n",
    "\n",
    "The class distribution is 357 benign, 212 malignant, which would get us an accuracy of 357/(357+212) = 62.74% by majority rule, so an **Accuracy of 94.35% +/- 1.56%** by decision tree classification is a good model.\n",
    "\n",
    "Our model was chosen based of **f1-score which is 97%** which is the harmonic mean of precision and recall and hence a good measure to determine a good fit.\n",
    "\n",
    "False Negatives can be a problem since it is a medical case and we would like to minimize the number of **false negatives which is 0** in this case.\n",
    "\n",
    "Therefore, the following Hyperparameters,  'n_neighbhors' = 6, weights = 'distance' help us increase the accuracy to 94.35% +/- 1.56%, while maintaining the same f1 score of 97%."
   ]
  },
  {
   "cell_type": "markdown",
   "metadata": {},
   "source": [
    "The Predict function from the model takes .5 as threshold, plotting a ROC curve to see if this threshold can be changed to get better results "
   ]
  },
  {
   "cell_type": "code",
   "execution_count": 19,
   "metadata": {},
   "outputs": [
    {
     "data": {
      "image/png": "[encoded data removed]",
      "text/plain": [
       "<Figure size 432x288 with 1 Axes>"
      ]
     },
     "metadata": {
      "needs_background": "light"
     },
     "output_type": "display_data"
    }
   ],
   "source": [
    "y_score1 = grid_knn.best_estimator_.predict_proba(X_test)\n",
    "\n",
    "fpr, tpr, _ = roc_curve(y_test, y_score1[:,1])\n",
    "roc_auc = auc(fpr, tpr)\n",
    "\n",
    "plt.figure()\n",
    "plt.plot(fpr, tpr, color='darkorange',\n",
    "         lw=2, label='ROC curve (area = %0.2f)' % roc_auc)\n",
    "plt.plot([0, 1], [0, 1], color='navy', linestyle='--')\n",
    "plt.xlim([0.0, 1.0])\n",
    "plt.ylim([0.0, 1.05])\n",
    "plt.xlabel('False Positive Rate')\n",
    "plt.ylabel('True Positive Rate')\n",
    "plt.title('Receiver Operating Characteristic for KNN')\n",
    "plt.legend(loc=\"lower right\")\n",
    "plt.show()"
   ]
  },
  {
   "cell_type": "code",
   "execution_count": 20,
   "metadata": {},
   "outputs": [
    {
     "name": "stderr",
     "output_type": "stream",
     "text": [
      "C:\\Users\\vnike\\Anaconda3\\lib\\site-packages\\matplotlib\\cbook\\__init__.py:424: MatplotlibDeprecationWarning: \n",
      "Passing one of 'on', 'true', 'off', 'false' as a boolean is deprecated; use an actual boolean (True/False) instead.\n",
      "  warn_deprecated(\"2.2\", \"Passing one of 'on', 'true', 'off', 'false' as a \"\n"
     ]
    },
    {
     "data": {
      "image/png": "[encoded data removed]",
      "text/plain": [
       "<Figure size 432x288 with 1 Axes>"
      ]
     },
     "metadata": {
      "needs_background": "light"
     },
     "output_type": "display_data"
    }
   ],
   "source": [
    "# Plot the lift curve\n",
    "skplt.metrics.plot_lift_curve(y_test, y_score1)\n",
    "plt.show()"
   ]
  },
  {
   "cell_type": "markdown",
   "metadata": {},
   "source": [
    "The ROC and lift chart shows that the accuracy reaches maximum when the treshold is set to 0.9"
   ]
  },
  {
   "cell_type": "code",
   "execution_count": 21,
   "metadata": {},
   "outputs": [
    {
     "name": "stdout",
     "output_type": "stream",
     "text": [
      "Confusion Matrix: - \n",
      " [[39  3]\n",
      " [ 0 72]]\n",
      "\n",
      "Classification Report: - \n",
      "               precision    recall  f1-score   support\n",
      "\n",
      "           0       1.00      0.93      0.96        42\n",
      "           1       0.96      1.00      0.98        72\n",
      "\n",
      "   micro avg       0.97      0.97      0.97       114\n",
      "   macro avg       0.98      0.96      0.97       114\n",
      "weighted avg       0.97      0.97      0.97       114\n",
      "\n"
     ]
    }
   ],
   "source": [
    "y_pred = np.where(y_score1[:,1] > .6,1,0)\n",
    "#Goodness Measures confusion matrix and other measures like accuracy, precision,recall\n",
    "print(\"Confusion Matrix: - \\n\",confusion_matrix(y_test, y_pred))\n",
    "print()\n",
    "print(\"Classification Report: - \\n\",classification_report(y_test, y_pred))"
   ]
  },
  {
   "cell_type": "markdown",
   "metadata": {},
   "source": [
    "### 3. Logistic Regression "
   ]
  },
  {
   "cell_type": "code",
   "execution_count": 22,
   "metadata": {},
   "outputs": [],
   "source": [
    "grid_values = {'penalty': ['l1', 'l2'], \\\n",
    "               'C':[1e-4,0.001,.009,0.01,.09,1,5,10,25,100,1000,1e4]}\n",
    "\n",
    "grid_log_clf = linear_model.LogisticRegression(random_state=45)\n",
    "\n",
    "inner_cv = KFold(n_splits=4, shuffle=True, random_state=45)\n",
    "outer_cv = KFold(n_splits=4, shuffle=True, random_state=45)\n",
    "\n",
    "grid_logit = GridSearchCV(grid_log_clf, grid_values, cv = inner_cv, scoring='f1_micro')\n",
    "grid_logit.fit(X_train,y_train)\n",
    "\n",
    "# Nested CV with parameter optimization\n",
    "nested_score = cross_val_score(grid_logit, data.data, data.target, cv=outer_cv,scoring = 'f1_micro')"
   ]
  },
  {
   "cell_type": "code",
   "execution_count": 23,
   "metadata": {},
   "outputs": [
    {
     "name": "stdout",
     "output_type": "stream",
     "text": [
      "Using Nested CV with grid search,accuracy: 97.01% +/- 3.91%\n",
      "\n",
      "The best hyper-parameters to get this accuracy is :-\n",
      " {'C': 0.09, 'penalty': 'l2'}\n",
      "\n",
      "The best decision tree classifier is :-\n",
      " LogisticRegression(C=0.09, class_weight=None, dual=False, fit_intercept=True,\n",
      "          intercept_scaling=1, max_iter=100, multi_class='warn',\n",
      "          n_jobs=None, penalty='l2', random_state=45, solver='warn',\n",
      "          tol=0.0001, verbose=0, warm_start=False)\n",
      "Confusion Matrix: - \n",
      " [[40  2]\n",
      " [ 1 71]]\n",
      "\n",
      "Classification Report: - \n",
      "               precision    recall  f1-score   support\n",
      "\n",
      "           0       0.98      0.95      0.96        42\n",
      "           1       0.97      0.99      0.98        72\n",
      "\n",
      "   micro avg       0.97      0.97      0.97       114\n",
      "   macro avg       0.97      0.97      0.97       114\n",
      "weighted avg       0.97      0.97      0.97       114\n",
      "\n"
     ]
    }
   ],
   "source": [
    "# Mean Accuracy with +/- 2 std deviations\n",
    "print(\"Using Nested CV with grid search,accuracy: {0:.2%} +/- {1:.2%}\".format(nested_score.mean(), nested_score.std() * 2))\n",
    "print()\n",
    "print (\"The best hyper-parameters to get this accuracy is :-\\n\", grid_logit.best_params_)\n",
    "print()\n",
    "print (\"The best decision tree classifier is :-\\n\", grid_logit.best_estimator_)\n",
    "y_pred = grid_logit.best_estimator_.predict(X_test)\n",
    "\n",
    "#Goodness Measures confusion matrix and other measures like accuracy, precision,recall\n",
    "print(\"Confusion Matrix: - \\n\",confusion_matrix(y_test, y_pred))\n",
    "print()\n",
    "print(\"Classification Report: - \\n\",classification_report(y_test, y_pred))"
   ]
  },
  {
   "cell_type": "markdown",
   "metadata": {},
   "source": [
    "**Model Goodness**\n",
    "\n",
    "The class distribution is 357 benign, 212 malignant, which would get us an accuracy of 357/(357+212) = 62.74% by majority rule, so an **Accuracy of 97.01% +/- 3.91%** by decision tree classification is a good model.\n",
    "\n",
    "Our model was chosen based of **f1-score which is 97%** which is the harmonic mean of precision and recall and hence a good measure to determine a good fit.\n",
    "\n",
    "False Negatives can be a problem since it is a medical case and we would like to minimize the number of **false negatives which is 1** in this case.\n",
    "\n",
    "Therefore, the following Hyperparameters,  'C' = 0.09, penalty = 'l2' help us increase the accuracy to 97.01% +/- 3.91%, while maintaining the same f1 score of 97%."
   ]
  },
  {
   "cell_type": "code",
   "execution_count": 24,
   "metadata": {},
   "outputs": [
    {
     "data": {
      "image/png": "[encoded data removed]",
      "text/plain": [
       "<Figure size 432x288 with 1 Axes>"
      ]
     },
     "metadata": {
      "needs_background": "light"
     },
     "output_type": "display_data"
    }
   ],
   "source": [
    "y_score2 = grid_logit.best_estimator_.predict_proba(X_test)\n",
    "\n",
    "fpr, tpr, _ = roc_curve(y_test, y_score2[:,1])\n",
    "roc_auc = auc(fpr, tpr)\n",
    "\n",
    "plt.figure()\n",
    "plt.plot(fpr, tpr, color='darkorange',\n",
    "         lw=2, label='ROC curve (area = %0.2f)' % roc_auc)\n",
    "plt.plot([0, 1], [0, 1], color='navy', linestyle='--')\n",
    "plt.xlim([0.0, 1.0])\n",
    "plt.ylim([0.0, 1.05])\n",
    "plt.xlabel('False Positive Rate')\n",
    "plt.ylabel('True Positive Rate')\n",
    "plt.title('Receiver Operating Characteristic for logistic regression')\n",
    "plt.legend(loc=\"lower right\")\n",
    "plt.show()"
   ]
  },
  {
   "cell_type": "code",
   "execution_count": 25,
   "metadata": {},
   "outputs": [
    {
     "name": "stderr",
     "output_type": "stream",
     "text": [
      "C:\\Users\\vnike\\Anaconda3\\lib\\site-packages\\matplotlib\\cbook\\__init__.py:424: MatplotlibDeprecationWarning: \n",
      "Passing one of 'on', 'true', 'off', 'false' as a boolean is deprecated; use an actual boolean (True/False) instead.\n",
      "  warn_deprecated(\"2.2\", \"Passing one of 'on', 'true', 'off', 'false' as a \"\n"
     ]
    },
    {
     "data": {
      "image/png": "[encoded data removed]",
      "text/plain": [
       "<Figure size 432x288 with 1 Axes>"
      ]
     },
     "metadata": {
      "needs_background": "light"
     },
     "output_type": "display_data"
    }
   ],
   "source": [
    "# Plot the lift curve\n",
    "skplt.metrics.plot_lift_curve(y_test, y_score2)\n",
    "plt.show()"
   ]
  },
  {
   "cell_type": "code",
   "execution_count": 26,
   "metadata": {},
   "outputs": [
    {
     "name": "stdout",
     "output_type": "stream",
     "text": [
      "Confusion Matrix: - \n",
      " [[40  2]\n",
      " [ 1 71]]\n",
      "\n",
      "Classification Report: - \n",
      "               precision    recall  f1-score   support\n",
      "\n",
      "           0       0.98      0.95      0.96        42\n",
      "           1       0.97      0.99      0.98        72\n",
      "\n",
      "   micro avg       0.97      0.97      0.97       114\n",
      "   macro avg       0.97      0.97      0.97       114\n",
      "weighted avg       0.97      0.97      0.97       114\n",
      "\n"
     ]
    }
   ],
   "source": [
    "y_pred = np.where(y_score2[:,1] > .5,1,0)\n",
    "#Goodness Measures confusion matrix and other measures like accuracy, precision,recall\n",
    "print(\"Confusion Matrix: - \\n\",confusion_matrix(y_test, y_pred))\n",
    "print()\n",
    "print(\"Classification Report: - \\n\",classification_report(y_test, y_pred))"
   ]
  },
  {
   "cell_type": "markdown",
   "metadata": {},
   "source": [
    "# 4. SVM "
   ]
  },
  {
   "cell_type": "code",
   "execution_count": 10,
   "metadata": {},
   "outputs": [],
   "source": [
    "param_grid = {'kernel':['linear','rbf'],'C': [0.01, 0.1, 1, 10, 100], 'gamma' :[0.001, 0.01, 0.1, 1]}\n",
    "\n",
    "grid_svc_clf= SVC(random_state = 45,probability = True)\n",
    "\n",
    "inner_cv = KFold(n_splits=4, shuffle=True, random_state=45)\n",
    "outer_cv = KFold(n_splits=4, shuffle=True, random_state=45)\n",
    "\n",
    "grid_svm = GridSearchCV(grid_svc_clf, param_grid, cv = inner_cv, scoring='f1',n_jobs = -1)\n",
    "grid_svm.fit(X_train,y_train)\n",
    "\n",
    "# Nested CV with parameter optimization\n",
    "nested_score = cross_val_score(grid_svm, data.data, data.target, cv=outer_cv,scoring='f1',n_jobs = -1)"
   ]
  },
  {
   "cell_type": "code",
   "execution_count": 11,
   "metadata": {},
   "outputs": [
    {
     "name": "stdout",
     "output_type": "stream",
     "text": [
      "Using Nested CV with grid search,accuracy: 95.79% +/- 2.64%\n",
      "\n",
      "The best hyper-parameters to get this accuracy is :-\n",
      " {'C': 10, 'gamma': 0.01, 'kernel': 'rbf'}\n",
      "\n",
      "The best decision tree classifier is :-\n",
      " SVC(C=10, cache_size=200, class_weight=None, coef0=0.0,\n",
      "  decision_function_shape='ovr', degree=3, gamma=0.01, kernel='rbf',\n",
      "  max_iter=-1, probability=True, random_state=45, shrinking=True,\n",
      "  tol=0.001, verbose=False)\n",
      "Confusion Matrix: - \n",
      " [[41  1]\n",
      " [ 1 71]]\n",
      "\n",
      "Classification Report: - \n",
      "               precision    recall  f1-score   support\n",
      "\n",
      "           0       0.98      0.98      0.98        42\n",
      "           1       0.99      0.99      0.99        72\n",
      "\n",
      "   micro avg       0.98      0.98      0.98       114\n",
      "   macro avg       0.98      0.98      0.98       114\n",
      "weighted avg       0.98      0.98      0.98       114\n",
      "\n"
     ]
    }
   ],
   "source": [
    "# Mean Accuracy with +/- 2 std deviations\n",
    "print(\"Using Nested CV with grid search,accuracy: {0:.2%} +/- {1:.2%}\".format(nested_score.mean(), nested_score.std() * 2))\n",
    "print()\n",
    "print (\"The best hyper-parameters to get this accuracy is :-\\n\", grid_svm.best_params_)\n",
    "print()\n",
    "print (\"The best decision tree classifier is :-\\n\", grid_svm.best_estimator_)\n",
    "y_pred = grid_svm.best_estimator_.predict(X_test)\n",
    "\n",
    "#Goodness Measures confusion matrix and other measures like accuracy, precision,recall\n",
    "print(\"Confusion Matrix: - \\n\",confusion_matrix(y_test, y_pred))\n",
    "print()\n",
    "print(\"Classification Report: - \\n\",classification_report(y_test, y_pred))"
   ]
  },
  {
   "cell_type": "markdown",
   "metadata": {},
   "source": [
    "**Model Goodness**\n",
    "\n",
    "The class distribution is 357 benign, 212 malignant, which would get us an accuracy of 357/(357+212) = 62.74% by majority rule, so an **Accuracy of 95.79% +/- 2.64%** by decision tree classification is a good model.\n",
    "\n",
    "Our model was chosen based of **f1-score which is 98%** which is the harmonic mean of precision and recall and hence a good measure to determine a good fit.\n",
    "\n",
    "False Negatives can be a problem since it is a medical case and we would like to minimize the number of **false negatives which is 1** in this case.\n",
    "\n",
    "Therefore, the following Hyperparameters,  'C' = 10, kernel = 'rbf',gamma : 0.01 help us increase the accuracy to 95.79% +/- 2.64%, while maintaining the same f1 score of 98%."
   ]
  },
  {
   "cell_type": "code",
   "execution_count": 12,
   "metadata": {},
   "outputs": [
    {
     "data": {
      "image/png": "[encoded data removed]",
      "text/plain": [
       "<Figure size 432x288 with 1 Axes>"
      ]
     },
     "metadata": {
      "needs_background": "light"
     },
     "output_type": "display_data"
    }
   ],
   "source": [
    "y_score3 = grid_svm.best_estimator_.predict_proba(X_test)\n",
    "\n",
    "fpr, tpr, _ = roc_curve(y_test, y_score3[:,1])\n",
    "roc_auc = auc(fpr, tpr)\n",
    "\n",
    "plt.figure()\n",
    "plt.plot(fpr, tpr, color='darkorange',\n",
    "         lw=2, label='ROC curve (area = %0.2f)' % roc_auc)\n",
    "plt.plot([0, 1], [0, 1], color='navy', linestyle='--')\n",
    "plt.xlim([0.0, 1.0])\n",
    "plt.ylim([0.0, 1.05])\n",
    "plt.xlabel('False Positive Rate')\n",
    "plt.ylabel('True Positive Rate')\n",
    "plt.title('Receiver Operating Characteristic for logistic regression')\n",
    "plt.legend(loc=\"lower right\")\n",
    "plt.show()"
   ]
  },
  {
   "cell_type": "code",
   "execution_count": 13,
   "metadata": {},
   "outputs": [
    {
     "name": "stderr",
     "output_type": "stream",
     "text": [
      "C:\\Users\\vnike\\Anaconda3\\lib\\site-packages\\matplotlib\\cbook\\__init__.py:424: MatplotlibDeprecationWarning: \n",
      "Passing one of 'on', 'true', 'off', 'false' as a boolean is deprecated; use an actual boolean (True/False) instead.\n",
      "  warn_deprecated(\"2.2\", \"Passing one of 'on', 'true', 'off', 'false' as a \"\n"
     ]
    },
    {
     "data": {
      "image/png": "[encoded data removed]",
      "text/plain": [
       "<Figure size 432x288 with 1 Axes>"
      ]
     },
     "metadata": {
      "needs_background": "light"
     },
     "output_type": "display_data"
    }
   ],
   "source": [
    "# Plot the lift curve\n",
    "skplt.metrics.plot_lift_curve(y_test, y_score3)\n",
    "plt.show()"
   ]
  },
  {
   "cell_type": "code",
   "execution_count": 17,
   "metadata": {},
   "outputs": [
    {
     "name": "stdout",
     "output_type": "stream",
     "text": [
      "Confusion Matrix: - \n",
      " [[41  1]\n",
      " [ 2 70]]\n",
      "\n",
      "Classification Report: - \n",
      "               precision    recall  f1-score   support\n",
      "\n",
      "           0       0.95      0.98      0.96        42\n",
      "           1       0.99      0.97      0.98        72\n",
      "\n",
      "   micro avg       0.97      0.97      0.97       114\n",
      "   macro avg       0.97      0.97      0.97       114\n",
      "weighted avg       0.97      0.97      0.97       114\n",
      "\n"
     ]
    }
   ],
   "source": [
    "y_pred = np.where(y_score3[:,1] > .6,1,0)\n",
    "#Goodness Measures confusion matrix and other measures like accuracy, precision,recall\n",
    "print(\"Confusion Matrix: - \\n\",confusion_matrix(y_test, y_pred))\n",
    "print()\n",
    "print(\"Classification Report: - \\n\",classification_report(y_test, y_pred))"
   ]
  }
 ],
 "metadata": {
  "anaconda-cloud": {},
  "kernelspec": {
   "display_name": "Python 3",
   "language": "python",
   "name": "python3"
  },
  "language_info": {
   "codemirror_mode": {
    "name": "ipython",
    "version": 3
   },
   "file_extension": ".py",
   "mimetype": "text/x-python",
   "name": "python",
   "nbconvert_exporter": "python",
   "pygments_lexer": "ipython3",
   "version": "3.7.3"
  }
 },
 "nbformat": 4,
 "nbformat_minor": 2
}
